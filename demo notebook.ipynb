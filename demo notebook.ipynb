{
 "cells": [
  {
   "cell_type": "code",
   "execution_count": 0,
   "metadata": {
    "application/vnd.databricks.v1+cell": {
     "cellMetadata": {
      "byteLimit": 2048000,
      "implicitDf": true,
      "rowLimit": 10000
     },
     "inputWidgets": {},
     "nuid": "550d5a65-188e-4cb9-949e-3d984dc6a99a",
     "showTitle": false,
     "tableResultSettingsMap": {
      "0": {
       "dataGridStateBlob": "{\"version\":1,\"tableState\":{\"columnPinning\":{\"left\":[\"#row_number#\"],\"right\":[]},\"columnSizing\":{},\"columnVisibility\":{}},\"settings\":{\"columns\":{}},\"syncTimestamp\":1754132812620}",
       "filterBlob": null,
       "queryPlanFiltersBlob": null,
       "tableResultIndex": 0
      }
     },
     "title": ""
    }
   },
   "outputs": [],
   "source": [
    "%sql\n",
    "CREATE OR REPLACE TABLE workspace.default.feature_sales_by_product AS\n",
    "SELECT\n",
    "  so.SALESORG AS REGION,\n",
    "  soi.PRODUCTID,\n",
    "  CONCAT(SUBSTRING(CAST(so.CREATEDAT AS STRING), 1, 4), '-', LPAD(SUBSTRING(CAST(so.CREATEDAT AS STRING), 5, 2), 2, '0')) AS FISCAL_YEAR_MONTH,\n",
    "  SUM(soi.NETAMOUNT) AS TOTAL_NETAMOUNT\n",
    "FROM\n",
    "  workspace.default.bronze_salesorders so\n",
    "JOIN\n",
    "  workspace.default.bronze_salesorderitems soi\n",
    "ON\n",
    "  so.SALESORDERID = soi.SALESORDERID\n",
    "GROUP BY\n",
    "  so.SALESORG,\n",
    "  soi.PRODUCTID,\n",
    "  CONCAT(SUBSTRING(CAST(so.CREATEDAT AS STRING), 1, 4), '-', LPAD(SUBSTRING(CAST(so.CREATEDAT AS STRING), 5, 2), 2, '0'))\n",
    "ORDER BY\n",
    "  soi.PRODUCTID,\n",
    "  FISCAL_YEAR_MONTH"
   ]
  },
  {
   "cell_type": "code",
   "execution_count": 0,
   "metadata": {
    "application/vnd.databricks.v1+cell": {
     "cellMetadata": {
      "byteLimit": 2048000,
      "implicitDf": true,
      "rowLimit": 10000
     },
     "inputWidgets": {},
     "nuid": "041017aa-3d71-486f-8aac-506fb0145153",
     "showTitle": false,
     "tableResultSettingsMap": {},
     "title": ""
    }
   },
   "outputs": [],
   "source": [
    "%sql\n",
    "SELECT * FROM workspace.default.feature_sales_by_product;"
   ]
  },
  {
   "cell_type": "code",
   "execution_count": 0,
   "metadata": {
    "application/vnd.databricks.v1+cell": {
     "cellMetadata": {
      "byteLimit": 2048000,
      "implicitDf": true,
      "rowLimit": 10000
     },
     "inputWidgets": {},
     "nuid": "6318877e-098d-4c47-898b-1196292f806d",
     "showTitle": false,
     "tableResultSettingsMap": {},
     "title": ""
    }
   },
   "outputs": [],
   "source": [
    "%sql\n",
    "CREATE OR REPLACE FUNCTION workspace.default.sales_report(start_month STRING, end_month STRING)\n",
    "RETURNS TABLE (\n",
    "  REGION STRING,\n",
    "  PRODUCTID STRING,\n",
    "  FISCAL_YEAR_MONTH STRING,\n",
    "  TOTAL_NETAMOUNT DOUBLE\n",
    ")\n",
    "COMMENT 'この関数は、月次の地域別、商品別売上レポートを作成する。'\n",
    "RETURN\n",
    "  SELECT REGION, PRODUCTID, FISCAL_YEAR_MONTH, TOTAL_NETAMOUNT\n",
    "  FROM workspace.default.feature_sales_by_product\n",
    "  WHERE FISCAL_YEAR_MONTH BETWEEN start_month AND end_month\n",
    ";"
   ]
  },
  {
   "cell_type": "code",
   "execution_count": 0,
   "metadata": {
    "application/vnd.databricks.v1+cell": {
     "cellMetadata": {
      "byteLimit": 2048000,
      "implicitDf": true,
      "rowLimit": 10000
     },
     "inputWidgets": {},
     "nuid": "e8be9982-f8f5-4d09-87e5-157df6b297ea",
     "showTitle": false,
     "tableResultSettingsMap": {},
     "title": ""
    }
   },
   "outputs": [],
   "source": [
    "%sql\n",
    "CREATE OR REPLACE FUNCTION workspace.default.sales_prediction(start_month STRING, end_month STRING)\n",
    "RETURNS TABLE (\n",
    "  REGION STRING,\n",
    "  FISCAL_YEAR_MONTH STRING,\n",
    "  predicted_TOTAL_NETAMOUNT DOUBLE,\n",
    "  predicted_TOTAL_NETAMOUNT_lower DOUBLE,\n",
    "  predicted_TOTAL_NETAMOUNT_upper DOUBLE,\n",
    "  predicted_at TIMESTAMP\n",
    ")\n",
    "COMMENT 'この関数は、今後3ヶ月の商品別の売上予測を行います。'\n",
    "RETURN\n",
    "  SELECT\n",
    "  REGION,\n",
    "  date_format(to_date(FISCAL_YEAR_MONTH, 'yyyyMM'), 'yyyy-MM') AS FISCAL_YEAR_MONTH,\n",
    "  predicted_TOTAL_NETAMOUNT,\n",
    "  predicted_TOTAL_NETAMOUNT_lower,\n",
    "  predicted_TOTAL_NETAMOUNT_upper,\n",
    "  predicted_at\n",
    "  FROM workspace.default.forecast_predictions_1754378418599\n",
    "  WHERE date_format(to_date(FISCAL_YEAR_MONTH, 'yyyyMM'), 'yyyy-MM') BETWEEN start_month AND end_month\n",
    ";"
   ]
  },
  {
   "cell_type": "code",
   "execution_count": 0,
   "metadata": {
    "application/vnd.databricks.v1+cell": {
     "cellMetadata": {},
     "inputWidgets": {},
     "nuid": "5bee94c9-9ae1-4ad0-8ae6-d5a126503520",
     "showTitle": false,
     "tableResultSettingsMap": {},
     "title": ""
    }
   },
   "outputs": [],
   "source": [
    "%sql\n",
    "CREATE OR REPLACE FUNCTION workspace.default.sales_report(start_month STRING, end_month STRING)\n",
    "RETURNS TABLE (\n",
    "  REGION STRING,\n",
    "  PRODUCTID STRING,\n",
    "  FISCAL_YEAR_MONTH STRING,\n",
    "  TOTAL_NETAMOUNT DOUBLE\n",
    ")\n",
    "COMMENT '指定された期間の地域・商品ごとの月次売上レポートを返す。'\n",
    "RETURN\n",
    "  SELECT\n",
    "    REGION,\n",
    "    PRODUCTID,\n",
    "    FISCAL_YEAR_MONTH,\n",
    "    TOTAL_NETAMOUNT\n",
    "  FROM\n",
    "    workspace.default.feature_sales_by_product\n",
    "  WHERE\n",
    "    FISCAL_YEAR_MONTH BETWEEN start_month AND end_month\n",
    ";"
   ]
  },
  {
   "cell_type": "code",
   "execution_count": 0,
   "metadata": {
    "application/vnd.databricks.v1+cell": {
     "cellMetadata": {},
     "inputWidgets": {},
     "nuid": "d5bbbb5c-6c3a-49aa-b573-9c82cbbf452d",
     "showTitle": false,
     "tableResultSettingsMap": {},
     "title": ""
    }
   },
   "outputs": [],
   "source": [
    "%sql\n",
    "CREATE OR REPLACE FUNCTION workspace.default.sales_report(start_month STRING, end_month STRING)\n",
    "RETURNS TABLE (\n",
    "  REGION STRING,\n",
    "  PRODUCTID STRING,\n",
    "  FISCAL_YEAR_MONTH STRING,\n",
    "  TOTAL_NETAMOUNT DOUBLE\n",
    ")\n",
    "COMMENT '指定された開始月と終了月の期間における、地域・商品ごとの月次売上レポートを返す。'\n",
    "RETURN\n",
    "  SELECT\n",
    "    REGION,\n",
    "    PRODUCTID,\n",
    "    FISCAL_YEAR_MONTH,\n",
    "    TOTAL_NETAMOUNT\n",
    "  FROM\n",
    "    workspace.default.feature_sales_by_product\n",
    "  WHERE\n",
    "    FISCAL_YEAR_MONTH BETWEEN start_month AND end_month\n",
    ";"
   ]
  },
  {
   "cell_type": "code",
   "execution_count": 0,
   "metadata": {
    "application/vnd.databricks.v1+cell": {
     "cellMetadata": {},
     "inputWidgets": {},
     "nuid": "b55ab9ea-5f7d-4ed6-a057-cb11b299a631",
     "showTitle": false,
     "tableResultSettingsMap": {},
     "title": ""
    }
   },
   "outputs": [],
   "source": [
    "def sales_report(start_month: str, end_month: str):\n",
    "    query = f\"\"\"\n",
    "        SELECT\n",
    "            REGION,\n",
    "            PRODUCTID,\n",
    "            YEAR(MONTH) AS YEAR,\n",
    "            MONTH(MONTH) AS MONTH,\n",
    "            SUM(TOTAL_NETAMOUNT) AS MONTHLY_TOTAL_NETAMOUNT\n",
    "        FROM workspace.default.feature_sales_by_product\n",
    "        WHERE MONTH >= '{start_month}'\n",
    "          AND MONTH <= '{end_month}'\n",
    "        GROUP BY REGION, PRODUCTID, YEAR(MONTH), MONTH(MONTH)\n",
    "        ORDER BY REGION, PRODUCTID, YEAR, MONTH\n",
    "    \"\"\"\n",
    "    df = spark.sql(query)\n",
    "    display(df)"
   ]
  },
  {
   "cell_type": "code",
   "execution_count": 0,
   "metadata": {
    "application/vnd.databricks.v1+cell": {
     "cellMetadata": {},
     "inputWidgets": {},
     "nuid": "75b9f6a3-ed3f-4023-903b-16bd1ec4f2d4",
     "showTitle": false,
     "tableResultSettingsMap": {},
     "title": ""
    }
   },
   "outputs": [],
   "source": [
    "%sql\n",
    "-- 指定された開始月(start_month)と終了月(end_month)の期間における、\n",
    "-- 地域(REGION)ごと、商品(PRODUCTID)ごとの月次売上(TOTAL_NETAMOUNT)を\n",
    "-- workspace.default.feature_sales_by_productテーブルから抽出し、レポートとして返す関数sales_reportを生成しなさい"
   ]
  },
  {
   "cell_type": "code",
   "execution_count": 0,
   "metadata": {
    "application/vnd.databricks.v1+cell": {
     "cellMetadata": {
      "byteLimit": 2048000,
      "implicitDf": true,
      "rowLimit": 10000
     },
     "inputWidgets": {},
     "nuid": "2fba0143-3469-4174-b743-10f07a12abec",
     "showTitle": false,
     "tableResultSettingsMap": {},
     "title": ""
    }
   },
   "outputs": [],
   "source": [
    "%sql\n",
    "SELECT * FROM workspace.default.sales_report(\"2019-01\", \"2019-03\");\n",
    "\n",
    "SELECT * FROM workspace.default.sales_prediction(\"2019-07\", \"2019-08\");"
   ]
  }
 ],
 "metadata": {
  "application/vnd.databricks.v1+notebook": {
   "computePreferences": null,
   "dashboards": [],
   "environmentMetadata": {
    "base_environment": "",
    "environment_version": "2"
   },
   "inputWidgetPreferences": null,
   "language": "python",
   "notebookMetadata": {
    "mostRecentlyExecutedCommandWithImplicitDF": {
     "commandId": 4748088512167273,
     "dataframes": [
      "_sqldf"
     ]
    },
    "pythonIndentUnit": 4
   },
   "notebookName": "demo notebook",
   "widgets": {}
  },
  "language_info": {
   "name": "python"
  }
 },
 "nbformat": 4,
 "nbformat_minor": 0
}
